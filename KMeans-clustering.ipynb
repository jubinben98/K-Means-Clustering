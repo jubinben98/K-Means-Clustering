{
 "cells": [
  {
   "cell_type": "markdown",
   "id": "4a591bef-327e-4c4d-9126-be215748e31d",
   "metadata": {
    "tags": []
   },
   "source": [
    "### Parts\n",
    "- [K-Mean clustering Class](#1)\n",
    "- [Loading the dataset](#2)\n",
    "- [Model fit](#3)\n",
    "- [Generated centoids](#4)\n",
    "- [Model test](#5)\n",
    "- [Result Visualization](#6)\n",
    "- [Accuracy](#7)"
   ]
  },
  {
   "cell_type": "code",
   "execution_count": 1,
   "id": "c2e25a75-277d-4b44-a344-24bbdd9afb93",
   "metadata": {},
   "outputs": [],
   "source": [
    "import numpy as np\n",
    "\n",
    "from matplotlib import pyplot as plt\n",
    "from sklearn.datasets import load_iris\n",
    "from sklearn.metrics import accuracy_score"
   ]
  },
  {
   "cell_type": "markdown",
   "id": "be9829bd-e8a9-4f75-bf20-f95212008731",
   "metadata": {},
   "source": [
    "### 1. K-Mean clustering Class \n",
    "<a id='1'></a>"
   ]
  },
  {
   "cell_type": "code",
   "execution_count": 2,
   "id": "31060090-106b-46af-8860-82b66facddbe",
   "metadata": {},
   "outputs": [],
   "source": [
    "class KMeans:\n",
    "    \"\"\"\n",
    "    K-means clustering\n",
    "    \"\"\"\n",
    "    \n",
    "    def __init__(self, n_clusters):\n",
    "        \"\"\"\n",
    "        Constructor\n",
    "        \"\"\"\n",
    "        self.k = n_clusters\n",
    "        self.clusters = None\n",
    "        self.data_len = None\n",
    "        self.tr_threshold = 0.001\n",
    "        self.previous_centroids = None\n",
    "        np.random.seed(23)\n",
    "\n",
    "    def fit(self, X):\n",
    "        \"\"\"\n",
    "        Generating the clusters\n",
    "        \"\"\"\n",
    "        \n",
    "        self.clusters = {i: {'centroid': 2*(2*np.random.random((X.shape[1],))-1),\n",
    "                             'elements': []} for i in range(self.k)}\n",
    "        self.data_len = X.shape[0]\n",
    "        \n",
    "        difference = float('inf')\n",
    "        while difference > self.tr_threshold:\n",
    "            self.add_clusters_values()\n",
    "            self.reset_clusters()\n",
    "            \n",
    "            current_centroids = np.array([self.clusters[i]['centroid'] for i in range(self.k)])\n",
    "            if self.previous_centroids is not None:\n",
    "                difference = np.mean(np.abs(current_centroids-self.previous_centroids))\n",
    "            self.previous_centroids = current_centroids\n",
    "        \n",
    "    def euclidean_distance(self, p1,p2):\n",
    "        \"\"\"\n",
    "        To find euclidean_distance\n",
    "        between two points\n",
    "        \"\"\"\n",
    "        \n",
    "        return np.sqrt(np.sum((p1-p2)**2))\n",
    "    \n",
    "    def add_clusters_values(self):\n",
    "        \"\"\"\n",
    "        Add the elements to the cluster\n",
    "        dict according to the euclidean \n",
    "        distances\n",
    "        \"\"\"\n",
    "        \n",
    "        for idx in range(self.data_len):\n",
    "            element = X[idx]\n",
    "            min_distance_cluster = np.argmin([self.euclidean_distance(element, self.clusters[i]['centroid']) for i in range(self.k)])\n",
    "            self.clusters[min_distance_cluster]['elements'].append(element)\n",
    "    \n",
    "    def reset_clusters(self):\n",
    "        \"\"\"\n",
    "        Reseets the element list for the\n",
    "        next iteration\n",
    "        \"\"\"\n",
    "        \n",
    "        for i in range(self.k):\n",
    "            elements = np.array(self.clusters[i]['elements'])\n",
    "            if elements.shape[0] > 0:\n",
    "                new_center = elements.mean(axis=0)\n",
    "                self.clusters[i]['centroid'] = new_center\n",
    "                self.clusters[i]['elements'] = []\n",
    "                \n",
    "    def predict(self, X):\n",
    "        \"\"\"\n",
    "        To predict the input sample\n",
    "        \"\"\"\n",
    "        \n",
    "        pred = []\n",
    "        for i in range(X.shape[0]):\n",
    "            predicted_cluster = np.argmin([self.euclidean_distance(X[i], self.clusters[j]['centroid']) for j in range(self.k)])\n",
    "            pred.append(predicted_cluster)\n",
    "        return np.array(pred)\n",
    "    \n",
    "    @property\n",
    "    def cluster_centroids(self):\n",
    "        \"\"\"\n",
    "        To return the generated \n",
    "        centroid coordinates\n",
    "        \"\"\"\n",
    "        \n",
    "        return np.array([self.clusters[i][\"centroid\"] for i in range(self.k)])"
   ]
  },
  {
   "cell_type": "markdown",
   "id": "23a7d424-e140-4402-a462-432286ae88e7",
   "metadata": {},
   "source": [
    "### 2. Loading the dataset\n",
    "<a id='2'></a>\n",
    "\n",
    "**Note:** The dataset has 4 independent features (petal_width, petal_length, sapal_width, sapal_length), we will be using only the *sapal_width* and *sapal_length*.\n",
    "The dataset has 'y' of 3 unique classes ('setosa', 'versicolor', 'virginica').\n",
    "\n",
    "For more info on the data: https://scikit-learn.org/stable/modules/generated/sklearn.datasets.load_iris.html#sklearn.datasets.load_iris"
   ]
  },
  {
   "cell_type": "code",
   "execution_count": 3,
   "id": "45493260-44f2-4d22-9f25-1395f780de1a",
   "metadata": {},
   "outputs": [
    {
     "name": "stdout",
     "output_type": "stream",
     "text": [
      "Shape of X and y:  (150, 2) (150,)\n"
     ]
    }
   ],
   "source": [
    "# Loading the dataset\n",
    "data = load_iris()\n",
    "\n",
    "# Extracting the independent variable (X)\n",
    "X = data[\"data\"][:, 2:]\n",
    "\n",
    "# Extracting the dependent variable (y)\n",
    "y = data[\"target\"]\n",
    "\n",
    "print(\"Shape of X and y: \", X.shape, y.shape)"
   ]
  },
  {
   "cell_type": "markdown",
   "id": "e4607abb-2d82-4055-9fa9-0297eab27b28",
   "metadata": {},
   "source": [
    "### 3. Model fit\n",
    "<a id='3'></a>"
   ]
  },
  {
   "cell_type": "code",
   "execution_count": 4,
   "id": "edaf905e-ec00-4bfe-a740-28a9f7d51139",
   "metadata": {},
   "outputs": [],
   "source": [
    "# Initializing the KMeans class with number of clusters = 3\n",
    "n_clusters = 3\n",
    "kmeans = KMeans(n_clusters)\n",
    "\n",
    "# Calling the model fit (centroid generation)\n",
    "kmeans.fit(X)"
   ]
  },
  {
   "cell_type": "markdown",
   "id": "b075e5e4-6dee-421c-b0af-40f1e4d6111f",
   "metadata": {},
   "source": [
    "### 4. Generated centoids\n",
    "<a id='4'></a>"
   ]
  },
  {
   "cell_type": "code",
   "execution_count": 5,
   "id": "861d78bd-b735-42a1-bcf5-b2f73422c172",
   "metadata": {},
   "outputs": [
    {
     "data": {
      "text/plain": [
       "array([[5.59583333, 2.0375    ],\n",
       "       [4.26923077, 1.34230769],\n",
       "       [1.462     , 0.246     ]])"
      ]
     },
     "execution_count": 5,
     "metadata": {},
     "output_type": "execute_result"
    }
   ],
   "source": [
    "# The centroids generated from the training data sample\n",
    "kmeans.cluster_centroids"
   ]
  },
  {
   "cell_type": "markdown",
   "id": "cca0a789-6883-4a63-ad41-fcb13de778ef",
   "metadata": {},
   "source": [
    "### 5. Model testing\n",
    "<a id='5'></a>"
   ]
  },
  {
   "cell_type": "code",
   "execution_count": 6,
   "id": "d407cba8-791e-47f9-9d54-f71523f42bec",
   "metadata": {},
   "outputs": [
    {
     "name": "stdout",
     "output_type": "stream",
     "text": [
      "Unique cluster classes: [0 1 2]\n"
     ]
    }
   ],
   "source": [
    "# Testing the model\n",
    "y_pred = kmeans.predict(X)\n",
    "\n",
    "print(\"Unique cluster classes:\", np.unique(y_pred))"
   ]
  },
  {
   "cell_type": "markdown",
   "id": "f79fabaa-fed6-4e5c-a200-b3b366147961",
   "metadata": {},
   "source": [
    "### 6. Result Visualization\n",
    "<a id='6'></a>"
   ]
  },
  {
   "cell_type": "code",
   "execution_count": 7,
   "id": "1c489e04-3ceb-4ce8-8e63-b4a92d56a9ea",
   "metadata": {},
   "outputs": [
    {
     "data": {
      "text/plain": [
       "<matplotlib.collections.PathCollection at 0x12f67d5b0>"
      ]
     },
     "execution_count": 7,
     "metadata": {},
     "output_type": "execute_result"
    },
    {
     "data": {
      "image/png": "[encoded data removed]",
      "text/plain": [
       "<Figure size 432x288 with 1 Axes>"
      ]
     },
     "metadata": {
      "needs_background": "light"
     },
     "output_type": "display_data"
    }
   ],
   "source": [
    "# Visualizing the output using matplotlib\n",
    "plt.scatter(X[:,0],\n",
    "            X[:,1],\n",
    "            c=y_pred,\n",
    "            cmap='rainbow')"
   ]
  },
  {
   "cell_type": "markdown",
   "id": "bfa56d58-6311-4ca8-b9ca-b8ccf59e9274",
   "metadata": {},
   "source": [
    "### 7. Accuracy\n",
    "<a id='7'></a>"
   ]
  },
  {
   "cell_type": "code",
   "execution_count": 8,
   "id": "ce9af2d0-7fa5-45bb-bf38-ea912420d647",
   "metadata": {},
   "outputs": [
    {
     "name": "stdout",
     "output_type": "stream",
     "text": [
      "Accuracy of the predictions: 96.0%\n"
     ]
    }
   ],
   "source": [
    "# Replacing the '0' with '2' and vice versa,\n",
    "# to match the label format of the y lables\n",
    "twos = np.where(y_pred==2)\n",
    "zero = np.where(y_pred==0)\n",
    "y_pred[twos] = 0\n",
    "y_pred[zero] = 2\n",
    "\n",
    "\n",
    "print(f\"Accuracy of the predictions: {accuracy_score(y, y_pred)*100}%\")"
   ]
  },
  {
   "cell_type": "code",
   "execution_count": null,
   "id": "cf10ef54-9d33-4594-845d-8fb3446708f2",
   "metadata": {},
   "outputs": [],
   "source": []
  }
 ],
 "metadata": {
  "kernelspec": {
   "display_name": "Python 3 (ipykernel)",
   "language": "python",
   "name": "python3"
  },
  "language_info": {
   "codemirror_mode": {
    "name": "ipython",
    "version": 3
   },
   "file_extension": ".py",
   "mimetype": "text/x-python",
   "name": "python",
   "nbconvert_exporter": "python",
   "pygments_lexer": "ipython3",
   "version": "3.9.7"
  }
 },
 "nbformat": 4,
 "nbformat_minor": 5
}
